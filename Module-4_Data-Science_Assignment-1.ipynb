{
 "cells": [
  {
   "cell_type": "code",
   "execution_count": 1,
   "id": "4785beac",
   "metadata": {},
   "outputs": [
    {
     "name": "stdout",
     "output_type": "stream",
     "text": [
      "Enter a string: iNeuron\n",
      "Reverse of the string is: norueNi\n"
     ]
    }
   ],
   "source": [
    "# QUESTION 1. Write a Python program to reverse a string without using any built-in string reversal functions.\n",
    "\n",
    "# SOLUTION: Here is the solution code for the asked question:\n",
    "\n",
    "# Code:\n",
    "\n",
    "def reverse_string(string):\n",
    "    reversed_string = ''\n",
    "    for i in range(len(string)):\n",
    "        reversed_string += string[len(string) - 1 - i]\n",
    "    return reversed_string\n",
    "\n",
    "string = input(\"Enter a string: \")\n",
    "print(\"Reverse of the string is:\", reverse_string(string))\n"
   ]
  },
  {
   "cell_type": "code",
   "execution_count": 11,
   "id": "e49e65f1",
   "metadata": {},
   "outputs": [
    {
     "name": "stdout",
     "output_type": "stream",
     "text": [
      "Enter a string: iNeuron\n",
      "The string is not a palindrome.\n"
     ]
    }
   ],
   "source": [
    "# QUESTION 2. Implement a function to check if a given string is a palindrome.\n",
    "\n",
    "# SOLUTION: Here is the solution code for the asked question:\n",
    "\n",
    "# Code:\n",
    "\n",
    "def is_palindrome(string):\n",
    "    reversed_string = string[::-1]\n",
    "    if string == reversed_string:\n",
    "        return True\n",
    "    else:\n",
    "        return False\n",
    "\n",
    "string = input(\"Enter a string: \")\n",
    "if is_palindrome(string):\n",
    "    print(\"The string is a palindrome.\")\n",
    "else:\n",
    "    print(\"The string is not a palindrome.\")\n"
   ]
  },
  {
   "cell_type": "code",
   "execution_count": 16,
   "id": "ad714249",
   "metadata": {},
   "outputs": [
    {
     "name": "stdout",
     "output_type": "stream",
     "text": [
      "Enter numbers separated by spaces: 45 98 64 33 12\n",
      "The largest number is: 98\n"
     ]
    }
   ],
   "source": [
    "# QUESTION 3. Write a program to find the largest element in a given list.\n",
    "\n",
    "# SOLUTION: Here is the solution code for the asked question:\n",
    "\n",
    "# Code:\n",
    "\n",
    "def find_largest(numbers):\n",
    "    largest = numbers[0]\n",
    "    for number in numbers:\n",
    "        if number > largest:\n",
    "            largest = number\n",
    "    return largest\n",
    "\n",
    "numbers = [int(number) for number in input(\"Enter numbers separated by spaces: \").split()]\n",
    "print(\"The largest number is:\", find_largest(numbers))\n"
   ]
  },
  {
   "cell_type": "code",
   "execution_count": 22,
   "id": "2aff1c5a",
   "metadata": {},
   "outputs": [
    {
     "name": "stdout",
     "output_type": "stream",
     "text": [
      "Enter numbers separated by spaces: 1 2 2 9 5 17 5 2 63\n",
      "1 occurs 1 times.\n",
      "2 occurs 3 times.\n",
      "9 occurs 1 times.\n",
      "5 occurs 2 times.\n",
      "17 occurs 1 times.\n",
      "63 occurs 1 times.\n"
     ]
    }
   ],
   "source": [
    "# QUESTION 4. Implement a function to count the occurrence of each element in a list.\n",
    "\n",
    "# SOLUTION: Here is the solution code for the asked question:\n",
    "\n",
    "# Code:\n",
    "\n",
    "def count_occurrences(numbers):\n",
    "    occurrences = {}\n",
    "    for number in numbers:\n",
    "        if number in occurrences:\n",
    "            occurrences[number] += 1\n",
    "        else:\n",
    "            occurrences[number] = 1\n",
    "    return occurrences\n",
    "\n",
    "numbers = [int(number) for number in input(\"Enter numbers separated by spaces: \").split()]\n",
    "occurrences = count_occurrences(numbers)\n",
    "for number, count in occurrences.items():\n",
    "    print(f\"{number} occurs {count} times.\")\n"
   ]
  },
  {
   "cell_type": "code",
   "execution_count": 18,
   "id": "66672284",
   "metadata": {},
   "outputs": [
    {
     "name": "stdout",
     "output_type": "stream",
     "text": [
      "Enter numbers separated by spaces: 45 98 64 33 12\n",
      "The second largest number is: 64\n"
     ]
    }
   ],
   "source": [
    "# QUESTION 5. Write a Python program to find the second largest number in a list.\n",
    "\n",
    "# SOLUTION: Here is the solution code for the asked question:\n",
    "\n",
    "# Code:\n",
    "\n",
    "def find_second_largest(numbers):\n",
    "    largest = numbers[0]\n",
    "    second_largest = None\n",
    "    for number in numbers[1:]:\n",
    "        if number > largest:\n",
    "            second_largest = largest\n",
    "            largest = number\n",
    "        elif second_largest is None or number > second_largest:\n",
    "            second_largest = number\n",
    "    return second_largest\n",
    "\n",
    "numbers = [int(number) for number in input(\"Enter numbers separated by spaces: \").split()]\n",
    "print(\"The second largest number is:\", find_second_largest(numbers))\n"
   ]
  },
  {
   "cell_type": "code",
   "execution_count": 24,
   "id": "9b696b9c",
   "metadata": {},
   "outputs": [
    {
     "name": "stdout",
     "output_type": "stream",
     "text": [
      "New list after removal of duplicate elements is :  [45, 98, 64, 33, 12]\n"
     ]
    }
   ],
   "source": [
    "# QUESTION 6. Implement a function to remove duplicate elements from a list.\n",
    "\n",
    "# SOLUTION: Here is the solution code for the asked question:\n",
    "\n",
    "# Code:\n",
    "\n",
    "my_list = [45, 98, 64, 33, 12, 64, 45]\n",
    "new_list = []\n",
    "for i in my_list:\n",
    "    if i not in new_list:\n",
    "        new_list.append(i)\n",
    "\n",
    "print(\"New list after removal of duplicate elements is : \", new_list)\n"
   ]
  },
  {
   "cell_type": "code",
   "execution_count": 26,
   "id": "d6d76c7b",
   "metadata": {},
   "outputs": [
    {
     "name": "stdout",
     "output_type": "stream",
     "text": [
      "Factorial of 5 is 120\n"
     ]
    }
   ],
   "source": [
    "# QUESTION 7. Write a program to calculate the factorial of a given number.\n",
    "\n",
    "# SOLUTION: Here is the solution code for the asked question:\n",
    "\n",
    "# Code:\n",
    "\n",
    "import math\n",
    "\n",
    "n = 5\n",
    "print(\"Factorial of\", n, \"is\", math.factorial(n))\n"
   ]
  },
  {
   "cell_type": "code",
   "execution_count": 29,
   "id": "4faa8953",
   "metadata": {},
   "outputs": [
    {
     "name": "stdout",
     "output_type": "stream",
     "text": [
      "Enter any number : 15\n",
      "15 is not a prime number\n"
     ]
    }
   ],
   "source": [
    "# QUESTION 8. Implement a function to check if a given number is prime.\n",
    "\n",
    "# SOLUTION: Here is the solution code for the asked question:\n",
    "\n",
    "# Code:\n",
    "\n",
    "def is_prime(n):\n",
    "    if n <= 1:\n",
    "        return False\n",
    "    for i in range(2, n):\n",
    "        if n % i == 0:\n",
    "            return False\n",
    "    return True\n",
    "\n",
    "n = int(input(\"Enter any number : \"))\n",
    "if is_prime(n):\n",
    "    print(n, \"is a prime number\")\n",
    "else:\n",
    "    print(n, \"is not a prime number\")\n"
   ]
  },
  {
   "cell_type": "code",
   "execution_count": 37,
   "id": "9aba459a",
   "metadata": {},
   "outputs": [
    {
     "name": "stdout",
     "output_type": "stream",
     "text": [
      "Enter numbers separated by spaces: 45 98 64 33 12 13 75 10\n",
      "list of integers in ascending order is :  [10, 12, 13, 33, 45, 64, 75, 98]\n"
     ]
    }
   ],
   "source": [
    "# QUESTION 9. Write a Python program to sort a list of integers in ascending order.\n",
    "\n",
    "# SOLUTION: Here is the solution code for the asked question:\n",
    "\n",
    "# Code:\n",
    "\n",
    "numbers = [int(number) for number in input(\"Enter numbers separated by spaces: \").split()]\n",
    "numbers.sort()\n",
    "print(\"list of integers in ascending order is : \", numbers)\n"
   ]
  },
  {
   "cell_type": "code",
   "execution_count": 53,
   "id": "17e0429c",
   "metadata": {},
   "outputs": [
    {
     "name": "stdout",
     "output_type": "stream",
     "text": [
      "Enter numbers separated by spaces: 1 2 3 4 5 6 7 8 9 10\n",
      "The sum of all numbers in a list is :  55\n"
     ]
    }
   ],
   "source": [
    "# QUESTION 10. Implement a function to find the sum of all numbers in a list.\n",
    "\n",
    "# SOLUTION: Here is the solution code for the asked question:\n",
    "\n",
    "# Code:\n",
    "\n",
    "numbers = [int(number) for number in input(\"Enter numbers separated by spaces: \").split()]\n",
    "total = sum(numbers)\n",
    "print(\"The sum of all numbers in a list is : \", total)\n"
   ]
  },
  {
   "cell_type": "code",
   "execution_count": 40,
   "id": "7f1987c1",
   "metadata": {},
   "outputs": [
    {
     "name": "stdout",
     "output_type": "stream",
     "text": [
      "[4, 5]\n"
     ]
    }
   ],
   "source": [
    "# QUESTION 11. Write a program to find the common elements between two lists.\n",
    "\n",
    "# SOLUTION: Here is the solution code for the asked question:\n",
    "\n",
    "# Code:\n",
    "\n",
    "list1 = [1, 2, 3, 4, 5]\n",
    "list2 = [4, 5, 6, 7, 8]\n",
    "common_elements = []\n",
    "for number in list1:\n",
    "    if number in list2:\n",
    "        common_elements.append(number)\n",
    "print(common_elements)\n"
   ]
  },
  {
   "cell_type": "code",
   "execution_count": 44,
   "id": "c067e615",
   "metadata": {},
   "outputs": [
    {
     "name": "stdout",
     "output_type": "stream",
     "text": [
      "True\n",
      "False\n"
     ]
    }
   ],
   "source": [
    "# QUESTION 12. Implement a function to check if a given string is an anagram of another string.\n",
    "\n",
    "# SOLUTION: Here is the solution code for the asked question:\n",
    "\n",
    "# Code:\n",
    "\n",
    "def is_anagram(str1, str2):\n",
    "    return sorted(str1) == sorted(str2)\n",
    "\n",
    "# case I:\n",
    "print(is_anagram('listen', 'silent'))\n",
    "\n",
    "# case II:\n",
    "print(is_anagram('how', 'wow'))\n"
   ]
  },
  {
   "cell_type": "code",
   "execution_count": 48,
   "id": "6c739f14",
   "metadata": {},
   "outputs": [
    {
     "name": "stdout",
     "output_type": "stream",
     "text": [
      "[('a', 'b', 'c'), ('a', 'c', 'b'), ('b', 'a', 'c'), ('b', 'c', 'a'), ('c', 'a', 'b'), ('c', 'b', 'a')]\n"
     ]
    }
   ],
   "source": [
    "# QUESTION 13. Write a Python program to generate all permutations of a given string.\n",
    "\n",
    "# SOLUTION: Here is the solution code for the asked question:\n",
    "\n",
    "# Code:\n",
    "\n",
    "from itertools import permutations\n",
    "\n",
    "def get_permutations(string):\n",
    "    return list(permutations(string))\n",
    "\n",
    "print(get_permutations('abc'))\n"
   ]
  },
  {
   "cell_type": "code",
   "execution_count": 51,
   "id": "92858c17",
   "metadata": {},
   "outputs": [
    {
     "name": "stdout",
     "output_type": "stream",
     "text": [
      "Enter any number : 15\n",
      "the Fibonacci sequence up to a given number is :  [0, 1, 1, 2, 3, 5, 8, 13, 21, 34, 55, 89, 144, 233, 377]\n"
     ]
    }
   ],
   "source": [
    "# QUESTION 14. Implement a function to calculate the Fibonacci sequence up to a given number of terms.\n",
    "\n",
    "# SOLUTION: Here is the solution code for the asked question:\n",
    "\n",
    "# Code:\n",
    "\n",
    "def fibonacci(n):\n",
    "    if n <= 0:\n",
    "        return []\n",
    "    elif n == 1:\n",
    "        return [0]\n",
    "    elif n == 2:\n",
    "        return [0, 1]\n",
    "    else:\n",
    "        fib = [0, 1]\n",
    "        for i in range(2, n):\n",
    "            fib.append(fib[i-1] + fib[i-2])\n",
    "        return fib\n",
    "\n",
    "n = int(input(\"Enter any number : \"))\n",
    "print(\"the Fibonacci sequence up to a given number is : \", fibonacci(n))\n"
   ]
  },
  {
   "cell_type": "code",
   "execution_count": 54,
   "id": "a0830274",
   "metadata": {},
   "outputs": [
    {
     "name": "stdout",
     "output_type": "stream",
     "text": [
      "Enter numbers separated by spaces: 1 2 3 4 5 6 7 8 9\n",
      "The median of a list of numbers is :  5\n"
     ]
    }
   ],
   "source": [
    "# QUESTION 15. Write a program to find the median of a list of numbers.\n",
    "\n",
    "# SOLUTION: Here is the solution code for the asked question:\n",
    "\n",
    "# Code:\n",
    "\n",
    "import statistics\n",
    "\n",
    "def find_median(lst):\n",
    "    return statistics.median(lst)\n",
    "\n",
    "numbers = [int(number) for number in input(\"Enter numbers separated by spaces: \").split()]\n",
    "print(\"The median of a list of numbers is : \", find_median(numbers))\n"
   ]
  },
  {
   "cell_type": "code",
   "execution_count": 57,
   "id": "147d291a",
   "metadata": {},
   "outputs": [
    {
     "name": "stdout",
     "output_type": "stream",
     "text": [
      "True\n",
      "False\n"
     ]
    }
   ],
   "source": [
    "# QUESTION 16. Implement a function to check if a given list is sorted in non-decreasing order.\n",
    "\n",
    "# SOLUTION: Here is the solution code for the asked question:\n",
    "\n",
    "# Code:\n",
    "\n",
    "def is_sorted(lst):\n",
    "    return all(lst[i] <= lst[i+1] for i in range(len(lst)-1))\n",
    "\n",
    "# case I:\n",
    "print(is_sorted([1, 2, 3, 4, 5]))\n",
    "\n",
    "# case II:\n",
    "print(is_sorted([3, 2, 4, 1, 5]))\n"
   ]
  },
  {
   "cell_type": "code",
   "execution_count": 61,
   "id": "3cb71d0a",
   "metadata": {},
   "outputs": [
    {
     "name": "stdout",
     "output_type": "stream",
     "text": [
      "[3, 2, 1]\n"
     ]
    }
   ],
   "source": [
    "# QUESTION 17. Write a Python program to find the intersection of two lists.\n",
    "\n",
    "# SOLUTION: Here is the solution code for the asked question:\n",
    "\n",
    "# Code:\n",
    "\n",
    "list_1 = [5,3,8,2,1]\n",
    "list_2 = [9,3,4,2,1]\n",
    "\n",
    "intersection_of_lists = [x for x in list_1 if x in list_2]\n",
    "print (intersection_of_lists)\n"
   ]
  },
  {
   "cell_type": "code",
   "execution_count": 69,
   "id": "d267d98e",
   "metadata": {},
   "outputs": [
    {
     "name": "stdout",
     "output_type": "stream",
     "text": [
      "Maximum contiguous sum is 19\n"
     ]
    }
   ],
   "source": [
    "# QUESTION 18. Implement a function to find the maximum subarray sum in a given list.\n",
    "\n",
    "# SOLUTION: Here is the solution code for the asked question:\n",
    "\n",
    "# Code:\n",
    "\n",
    "def max_subarray_sum(arr):\n",
    "    max_so_far = arr[0]\n",
    "    curr_max = arr[0]\n",
    "\n",
    "    for i in range(1,len(arr)):\n",
    "        curr_max = max(arr[i], curr_max + arr[i])\n",
    "        max_so_far = max(max_so_far,curr_max)\n",
    "\n",
    "    return max_so_far\n",
    "\n",
    "arr = [-12, -3, 19, -10, 1, 5, -8, -17]\n",
    "print(\"Maximum contiguous sum is\", max_subarray_sum(arr))\n"
   ]
  },
  {
   "cell_type": "code",
   "execution_count": 73,
   "id": "4d9d1441",
   "metadata": {},
   "outputs": [
    {
     "name": "stdout",
     "output_type": "stream",
     "text": [
      "Enter any string : iNeuron data science\n",
      "Final result after removal of all vowels from a given string is :  Nrn dt scnc\n"
     ]
    }
   ],
   "source": [
    "# QUESTION 19. Write a program to remove all vowels from a given string.\n",
    "\n",
    "# SOLUTION: Here is the solution code for the asked question:\n",
    "\n",
    "# Code:\n",
    "\n",
    "def remove_vowels(string):\n",
    "    vowels = \"AEIOUaeiou\"\n",
    "    for char in vowels:\n",
    "        string = string.replace(char, \"\")\n",
    "    return string\n",
    "\n",
    "string = str(input(\"Enter any string : \"))\n",
    "\n",
    "print(\"Final result after removal of all vowels from a given string is : \", remove_vowels(string))\n"
   ]
  },
  {
   "cell_type": "code",
   "execution_count": 77,
   "id": "889a1d99",
   "metadata": {},
   "outputs": [
    {
     "name": "stdout",
     "output_type": "stream",
     "text": [
      "Enter any sentance : iNeuron data science\n",
      "The reverse order of words in the given sentence is :  science data iNeuron\n"
     ]
    }
   ],
   "source": [
    "# QUESTION 20. Implement a function to reverse the order of words in a given sentence.\n",
    "\n",
    "# SOLUTION: Here is the solution code for the asked question:\n",
    "\n",
    "# Code:\n",
    "\n",
    "def reverse_sentence(sentence):\n",
    "    words = sentence.split()\n",
    "    words.reverse()\n",
    "    return \" \".join(words)\n",
    "\n",
    "sentence = str(input(\"Enter any sentance : \"))\n",
    "print(\"The reverse order of words in the given sentence is : \", reverse_sentence(sentence))\n"
   ]
  },
  {
   "cell_type": "code",
   "execution_count": 79,
   "id": "75a96bec",
   "metadata": {},
   "outputs": [
    {
     "name": "stdout",
     "output_type": "stream",
     "text": [
      "True\n",
      "False\n"
     ]
    }
   ],
   "source": [
    "# QUESTION 21. Write a Python program to check if two strings are anagrams of each other.\n",
    "\n",
    "# SOLUTION: Here is the solution code for the asked question:\n",
    "\n",
    "# Code:\n",
    "\n",
    "def is_anagram(str1, str2):\n",
    "    return sorted(str1) == sorted(str2)\n",
    "\n",
    "# case I:\n",
    "print(is_anagram('listen', 'silent'))\n",
    "\n",
    "# case II:\n",
    "print(is_anagram('how', 'wow'))\n"
   ]
  },
  {
   "cell_type": "code",
   "execution_count": 86,
   "id": "a052e944",
   "metadata": {},
   "outputs": [
    {
     "name": "stdout",
     "output_type": "stream",
     "text": [
      "h\n"
     ]
    }
   ],
   "source": [
    "# QUESTION 22. Implement a function to find the first non-repeating character in a string.\n",
    "\n",
    "# SOLUTION: Here is the solution code for the asked question:\n",
    "\n",
    "# Code:\n",
    "\n",
    "def first_non_repeating_character(string):\n",
    "    char_order = []\n",
    "    ctr = {}\n",
    "    for c in string:\n",
    "        if c in ctr:\n",
    "            ctr[c] += 1\n",
    "        else:\n",
    "            ctr[c] = 1\n",
    "            char_order.append(c)\n",
    "    for c in char_order:\n",
    "        if ctr[c] == 1:\n",
    "            return c\n",
    "    return None\n",
    "\n",
    "string = \"hello world\"\n",
    "print(first_non_repeating_character(string))\n"
   ]
  },
  {
   "cell_type": "code",
   "execution_count": 93,
   "id": "28548298",
   "metadata": {},
   "outputs": [
    {
     "name": "stdout",
     "output_type": "stream",
     "text": [
      "Enter any number : 513\n",
      "Prime factors of the given number is :  [3, 3, 3, 19]\n"
     ]
    }
   ],
   "source": [
    "# QUESTION 23. Write a program to find the prime factors of a given number.\n",
    "\n",
    "# SOLUTION: Here is the solution code for the asked question:\n",
    "\n",
    "# Code:\n",
    "\n",
    "def prime_factors(n):\n",
    "    i = 2\n",
    "    factors = []\n",
    "    while i * i <= n:\n",
    "        if n % i:\n",
    "            i += 1\n",
    "        else:\n",
    "            n //= i\n",
    "            factors.append(i)\n",
    "    if n > 1:\n",
    "        factors.append(n)\n",
    "    return factors\n",
    "\n",
    "n = int(input(\"Enter any number : \"))\n",
    "print(\"Prime factors of the given number is : \", prime_factors(n))\n"
   ]
  },
  {
   "cell_type": "code",
   "execution_count": 98,
   "id": "019a60e4",
   "metadata": {},
   "outputs": [
    {
     "name": "stdout",
     "output_type": "stream",
     "text": [
      "Enter any number : 512\n",
      "is the given number is a power of two? :  True\n"
     ]
    }
   ],
   "source": [
    "# QUESTION 24. Implement a function to check if a given number is a power of two.\n",
    "\n",
    "# SOLUTION: Here is the solution code for the asked question:\n",
    "\n",
    "# Code:\n",
    "\n",
    "def is_power_of_two(n):\n",
    "    if n == 0:\n",
    "        return False\n",
    "    while n != 1:\n",
    "        if n % 2 != 0:\n",
    "            return False\n",
    "        n = n // 2\n",
    "    return True\n",
    "\n",
    "n = int(input(\"Enter any number : \"))\n",
    "print(\"is the given number is a power of two? : \", is_power_of_two(n))\n"
   ]
  },
  {
   "cell_type": "code",
   "execution_count": 106,
   "id": "b752a52e",
   "metadata": {},
   "outputs": [
    {
     "name": "stdout",
     "output_type": "stream",
     "text": [
      "[1, 2, 3, 4, 5, 6]\n"
     ]
    }
   ],
   "source": [
    "# QUESTION 25. Write a Python program to merge two sorted lists into a single sorted list.\n",
    "\n",
    "# SOLUTION: Here is the solution code for the asked question:\n",
    "\n",
    "# Code:\n",
    "\n",
    "def merge_lists(list1, list2):\n",
    "    merged_list = []\n",
    "    i = j = 0\n",
    "    while i < len(list1) and j < len(list2):\n",
    "        if list1[i] < list2[j]:\n",
    "            merged_list.append(list1[i])\n",
    "            i += 1\n",
    "        else:\n",
    "            merged_list.append(list2[j])\n",
    "            j += 1\n",
    "    merged_list += list1[i:]\n",
    "    merged_list += list2[j:]\n",
    "    return merged_list\n",
    "\n",
    "list1 = [1, 3, 5]\n",
    "list2 = [2, 4, 6]\n",
    "print(merge_lists(list1, list2))\n"
   ]
  },
  {
   "cell_type": "code",
   "execution_count": 112,
   "id": "4b36a423",
   "metadata": {},
   "outputs": [
    {
     "name": "stdout",
     "output_type": "stream",
     "text": [
      "Enter numbers separated by spaces: 1 2 3 4 5 6\n",
      "the mode of the given list of numbers is :  1\n"
     ]
    }
   ],
   "source": [
    "# QUESTION 26. Implement a function to find the mode of a list of numbers.\n",
    "\n",
    "# SOLUTION: Here is the solution code for the asked question:\n",
    "\n",
    "# Code:\n",
    "\n",
    "from collections import Counter\n",
    "\n",
    "def find_mode(numbers):\n",
    "    c = Counter(numbers)\n",
    "    mode = c.most_common(1)\n",
    "    return mode[0][0]\n",
    "\n",
    "numbers = [int(number) for number in input(\"Enter numbers separated by spaces: \").split()]\n",
    "print(\"the mode of the given list of numbers is : \", find_mode(numbers))\n"
   ]
  },
  {
   "cell_type": "code",
   "execution_count": 116,
   "id": "da4e3a9e",
   "metadata": {},
   "outputs": [
    {
     "name": "stdout",
     "output_type": "stream",
     "text": [
      "The GCD of 40 and 16 is 8\n"
     ]
    }
   ],
   "source": [
    "# QUESTION 27. Write a program to find the greatest common divisor (GCD) of two numbers.\n",
    "\n",
    "# SOLUTION: Here is the solution code for the asked question:\n",
    "\n",
    "# Code:\n",
    "\n",
    "import math\n",
    "\n",
    "def find_gcd(x, y):\n",
    "    return math.gcd(x, y)\n",
    "\n",
    "x = 40\n",
    "y = 16\n",
    "\n",
    "print(\"The GCD of\", x, \"and\", y, \"is\", find_gcd(x, y))\n"
   ]
  },
  {
   "cell_type": "code",
   "execution_count": 123,
   "id": "874409e6",
   "metadata": {},
   "outputs": [
    {
     "name": "stdout",
     "output_type": "stream",
     "text": [
      "Enter any number : 12.5\n",
      "The square root of 12.5 is 3.5355339059327378\n"
     ]
    }
   ],
   "source": [
    "# QUESTION 28. Implement a function to calculate the square root of a given number.\n",
    "\n",
    "# SOLUTION: Here is the solution code for the asked question:\n",
    "\n",
    "# Code:\n",
    "\n",
    "import math\n",
    "\n",
    "def calculate_square_root(number):\n",
    "    return math.sqrt(number)\n",
    "\n",
    "number = float(input(\"Enter any number : \"))\n",
    "\n",
    "print(\"The square root of\", number, \"is\", calculate_square_root(number))\n"
   ]
  },
  {
   "cell_type": "code",
   "execution_count": 134,
   "id": "bb52a026",
   "metadata": {},
   "outputs": [
    {
     "name": "stdout",
     "output_type": "stream",
     "text": [
      "A man, a plan, a canal: Panama is a palindrome\n",
      " \n",
      "A man, a plan, a canal is not a palindrome\n"
     ]
    }
   ],
   "source": [
    "# QUESTION 29. Write a Python program to check if a given string is a valid palindrome ignoring non-alphanumeric characters.\n",
    "\n",
    "# SOLUTION: Here is the solution code for the asked question:\n",
    "\n",
    "# Code:\n",
    "\n",
    "import re\n",
    "\n",
    "def is_palindrome(string):\n",
    "    # Remove non-alphanumeric characters\n",
    "    string = re.sub(r'\\W+', '', string)\n",
    "    # Convert string to lowercase\n",
    "    string = string.lower()\n",
    "    # Check if the string is equal to its reverse\n",
    "    return string == string[::-1]\n",
    "\n",
    "# test case I:\n",
    "string = \"A man, a plan, a canal: Panama\"\n",
    "if is_palindrome(string):\n",
    "    print(f\"{string} is a palindrome\")\n",
    "else:\n",
    "    print(f\"{string} is not a palindrome\")\n",
    "\n",
    "print(\" \")\n",
    "\n",
    "# test case II:\n",
    "string = \"A man, a plan, a canal\"\n",
    "if is_palindrome(string):\n",
    "    print(f\"{string} is a palindrome\")\n",
    "else:\n",
    "    print(f\"{string} is not a palindrome\")\n"
   ]
  },
  {
   "cell_type": "code",
   "execution_count": 142,
   "id": "8173e78f",
   "metadata": {},
   "outputs": [
    {
     "name": "stdout",
     "output_type": "stream",
     "text": [
      "Enter numbers separated by spaces: 4 5 6 7 0 1 2\n",
      "The minimum element in the rotated sorted list is :  0\n"
     ]
    }
   ],
   "source": [
    "# QUESTION 30. Implement a function to find the minimum element in a rotated sorted list.\n",
    "\n",
    "# SOLUTION: Here is the solution code for the asked question:\n",
    "\n",
    "# Code:\n",
    "\n",
    "def find_min(nums):\n",
    "    left, right = 0, len(nums) - 1\n",
    "    while left < right:\n",
    "        mid = (left + right) // 2\n",
    "        if nums[mid] > nums[right]:\n",
    "            left = mid + 1\n",
    "        else:\n",
    "            right = mid\n",
    "    return nums[left]\n",
    "\n",
    "nums = [int(number) for number in input(\"Enter numbers separated by spaces: \").split()]\n",
    "\n",
    "print(\"The minimum element in the rotated sorted list is : \", find_min(nums))\n"
   ]
  },
  {
   "cell_type": "code",
   "execution_count": 151,
   "id": "742e5b1e",
   "metadata": {},
   "outputs": [
    {
     "name": "stdout",
     "output_type": "stream",
     "text": [
      "Enter numbers separated by spaces: 1 2 3 8 6\n",
      "the sum of all even numbers of the given list is :  16\n"
     ]
    }
   ],
   "source": [
    "# QUESTION 31. Write a program to find the sum of all even numbers in a list.\n",
    "\n",
    "# SOLUTION: Here is the solution code for the asked question:\n",
    "\n",
    "# Code:\n",
    "\n",
    "def sum_of_even_numbers(numbers):\n",
    "    total = 0\n",
    "    for number in numbers:\n",
    "        if number % 2 == 0:\n",
    "            total += number\n",
    "    return total\n",
    "\n",
    "numbers = [int(number) for number in input(\"Enter numbers separated by spaces: \").split()]\n",
    "print(\"the sum of all even numbers of the given list is : \", sum_of_even_numbers(numbers))\n"
   ]
  },
  {
   "cell_type": "code",
   "execution_count": 157,
   "id": "ca799a6c",
   "metadata": {},
   "outputs": [
    {
     "name": "stdout",
     "output_type": "stream",
     "text": [
      "8\n"
     ]
    }
   ],
   "source": [
    "# QUESTION 32. Implement a function to calculate the power of a number using recursion.\n",
    "\n",
    "# SOLUTION: Here is the solution code for the asked question:\n",
    "\n",
    "# Code:\n",
    "\n",
    "def power(base, exponent):\n",
    "    if exponent == 0:\n",
    "        return 1\n",
    "    else:\n",
    "        return base * power(base, exponent - 1)\n",
    "\n",
    "base = 2\n",
    "exponent = 3\n",
    "print(power(base, exponent))\n"
   ]
  },
  {
   "cell_type": "code",
   "execution_count": 164,
   "id": "7f868fc4",
   "metadata": {},
   "outputs": [
    {
     "name": "stdout",
     "output_type": "stream",
     "text": [
      "[1, 2, 3, 4]\n"
     ]
    }
   ],
   "source": [
    "# QUESTION 33. Write a Python program to remove duplicates from a list while preserving the order.\n",
    "\n",
    "# SOLUTION: Here is the solution code for the asked question:\n",
    "\n",
    "# Code:\n",
    "\n",
    "def remove_duplicates(numbers):\n",
    "    new_list = []\n",
    "    for number in numbers:\n",
    "        if number not in new_list:\n",
    "            new_list.append(number)\n",
    "    return new_list\n",
    "\n",
    "numbers = [1, 2, 3, 2, 4, 3]\n",
    "print(remove_duplicates(numbers))\n"
   ]
  },
  {
   "cell_type": "code",
   "execution_count": 173,
   "id": "fed76388",
   "metadata": {},
   "outputs": [
    {
     "name": "stdout",
     "output_type": "stream",
     "text": [
      "fl\n"
     ]
    }
   ],
   "source": [
    "# QUESTION 34. Implement a function to find the longest common prefix among a list of strings.\n",
    "\n",
    "# SOLUTION: Here is the solution code for the asked question:\n",
    "\n",
    "# Code:\n",
    "\n",
    "def longest_common_prefix(strings):\n",
    "    if not strings:\n",
    "        return \"\"\n",
    "    prefix = strings[0]\n",
    "    for string in strings:\n",
    "        while string[:len(prefix)] != prefix and prefix:\n",
    "            prefix = prefix[:-1]\n",
    "    return prefix\n",
    "\n",
    "strings = [\"flower\", \"flow\", \"flight\"]\n",
    "print(longest_common_prefix(strings))\n"
   ]
  },
  {
   "cell_type": "code",
   "execution_count": 178,
   "id": "515f5413",
   "metadata": {},
   "outputs": [
    {
     "name": "stdout",
     "output_type": "stream",
     "text": [
      "True\n"
     ]
    }
   ],
   "source": [
    "# QUESTION 35. Write a program to check if a given number is a perfect square.\n",
    "\n",
    "# SOLUTION: Here is the solution code for the asked question:\n",
    "\n",
    "# Code:\n",
    "\n",
    "def is_perfect_square(number):\n",
    "    return number > 0 and (number ** 0.5).is_integer()\n",
    "\n",
    "number = 16\n",
    "print(is_perfect_square(number))\n"
   ]
  },
  {
   "cell_type": "code",
   "execution_count": 184,
   "id": "d05d6a23",
   "metadata": {},
   "outputs": [
    {
     "name": "stdout",
     "output_type": "stream",
     "text": [
      "24\n"
     ]
    }
   ],
   "source": [
    "# QUESTION 36. Implement a function to calculate the product of all elements in a list.\n",
    "\n",
    "# SOLUTION: Here is the solution code for the asked question:\n",
    "\n",
    "# Code:\n",
    "\n",
    "from functools import reduce\n",
    "\n",
    "def product(numbers):\n",
    "    return reduce(lambda x, y: x * y, numbers)\n",
    "\n",
    "numbers = [1, 2, 3, 4]\n",
    "print(product(numbers))\n"
   ]
  },
  {
   "cell_type": "code",
   "execution_count": 190,
   "id": "ddb97bbe",
   "metadata": {},
   "outputs": [
    {
     "name": "stdout",
     "output_type": "stream",
     "text": [
      "world Hello\n"
     ]
    }
   ],
   "source": [
    "# QUESTION 37. Write a Python program to reverse the order of words in a sentence while preserving the word order.\n",
    "\n",
    "# SOLUTION: Here is the solution code for the asked question:\n",
    "\n",
    "# Code:\n",
    "\n",
    "def reverse_sentence(sentence):\n",
    "    words = sentence.split()\n",
    "    reversed_words = words[::-1]\n",
    "    reversed_sentence = \" \".join(reversed_words)\n",
    "    return reversed_sentence\n",
    "\n",
    "sentence = \"Hello world\"\n",
    "print(reverse_sentence(sentence))\n"
   ]
  },
  {
   "cell_type": "code",
   "execution_count": 196,
   "id": "119c5a26",
   "metadata": {},
   "outputs": [
    {
     "name": "stdout",
     "output_type": "stream",
     "text": [
      "5\n"
     ]
    }
   ],
   "source": [
    "# QUESTION 38. Implement a function to find the missing number in a given list of consecutive numbers.\n",
    "\n",
    "# SOLUTION: Here is the solution code for the asked question:\n",
    "\n",
    "# Code:\n",
    "\n",
    "def find_missing_number(numbers):\n",
    "    n = len(numbers) + 1\n",
    "    expected_sum = n * (n + 1) // 2\n",
    "    actual_sum = sum(numbers)\n",
    "    return expected_sum - actual_sum\n",
    "\n",
    "numbers = [1, 2, 3, 4, 6]\n",
    "print(find_missing_number(numbers))\n"
   ]
  },
  {
   "cell_type": "code",
   "execution_count": 203,
   "id": "71beafe6",
   "metadata": {},
   "outputs": [
    {
     "name": "stdout",
     "output_type": "stream",
     "text": [
      "10\n"
     ]
    }
   ],
   "source": [
    "# QUESTION 39. Write a program to find the sum of digits of a given number.\n",
    "\n",
    "# SOLUTION: Here is the solution code for the asked question:\n",
    "\n",
    "# Code:\n",
    "\n",
    "def sum_of_digits(number):\n",
    "    return sum(int(digit) for digit in str(number))\n",
    "\n",
    "number = 1234\n",
    "print(sum_of_digits(number))\n"
   ]
  },
  {
   "cell_type": "code",
   "execution_count": 210,
   "id": "6806a5e9",
   "metadata": {},
   "outputs": [
    {
     "name": "stdout",
     "output_type": "stream",
     "text": [
      "True\n"
     ]
    }
   ],
   "source": [
    "# QUESTION 40. Implement a function to check if a given string is a valid palindrome considering case sensitivity.\n",
    "\n",
    "# SOLUTION: Here is the solution code for the asked question:\n",
    "\n",
    "# Code:\n",
    "\n",
    "def is_palindrome(string):\n",
    "    return string == string[::-1]\n",
    "\n",
    "string = \"racecar\"\n",
    "print(is_palindrome(string))\n"
   ]
  },
  {
   "cell_type": "code",
   "execution_count": 215,
   "id": "ba81b97c",
   "metadata": {},
   "outputs": [
    {
     "name": "stdout",
     "output_type": "stream",
     "text": [
      "2\n"
     ]
    }
   ],
   "source": [
    "# QUESTION 41. Write a Python program to find the smallest missing positive integer in a list.\n",
    "\n",
    "# SOLUTION: Here is the solution code for the asked question:\n",
    "\n",
    "# Code:\n",
    "\n",
    "def find_smallest_missing_positive_integer(numbers):\n",
    "    numbers = set(numbers)\n",
    "    i = 1\n",
    "    while i in numbers:\n",
    "        i += 1\n",
    "    return i\n",
    "\n",
    "numbers = [3, 4, -1, 1]\n",
    "print(find_smallest_missing_positive_integer(numbers))\n"
   ]
  },
  {
   "cell_type": "code",
   "execution_count": 224,
   "id": "f567283c",
   "metadata": {},
   "outputs": [
    {
     "name": "stdout",
     "output_type": "stream",
     "text": [
      "bab\n"
     ]
    }
   ],
   "source": [
    "# QUESTION 42. Implement a function to find the longest palindrome substring in a given string.\n",
    "\n",
    "# SOLUTION: Here is the solution code for the asked question:\n",
    "\n",
    "# Code:\n",
    "\n",
    "def longest_palindrome_substring(string):\n",
    "    n = len(string)\n",
    "    longest_palindrome = \"\"\n",
    "    for i in range(n):\n",
    "        for j in range(i, n):\n",
    "            substring = string[i:j+1]\n",
    "            if substring == substring[::-1] and len(substring) > len(longest_palindrome):\n",
    "                longest_palindrome = substring\n",
    "    return longest_palindrome\n",
    "\n",
    "string = \"babad\"\n",
    "print(longest_palindrome_substring(string))\n"
   ]
  },
  {
   "cell_type": "code",
   "execution_count": 229,
   "id": "9a7b804d",
   "metadata": {},
   "outputs": [
    {
     "name": "stdout",
     "output_type": "stream",
     "text": [
      "2\n"
     ]
    }
   ],
   "source": [
    "# QUESTION 43. Write a program to find the number of occurrences of a given element in a list.\n",
    "\n",
    "# SOLUTION: Here is the solution code for the asked question:\n",
    "\n",
    "# Code:\n",
    "\n",
    "def count_occurrences(numbers, element):\n",
    "    return numbers.count(element)\n",
    "\n",
    "numbers = [1, 2, 3, 4, 1]\n",
    "element = 1\n",
    "print(count_occurrences(numbers, element))\n"
   ]
  },
  {
   "cell_type": "code",
   "execution_count": 261,
   "id": "572218cf",
   "metadata": {},
   "outputs": [
    {
     "name": "stdout",
     "output_type": "stream",
     "text": [
      "Enetr any number : 6\n",
      "Is the given number is a perfect number? :  True\n"
     ]
    }
   ],
   "source": [
    "# QUESTION 44. Implement a function to check if a given number is a perfect number.\n",
    "\n",
    "# SOLUTION: Here is the solution code for the asked question:\n",
    "\n",
    "# Code:\n",
    "\n",
    "def is_perfect_number(number):\n",
    "    divisors = []\n",
    "    for i in range(1, number):\n",
    "        if number % i == 0:\n",
    "            divisors.append(i)\n",
    "    return sum(divisors) == number\n",
    "\n",
    "number = int(input(\"Enetr any number : \"))\n",
    "print(\"Is the given number is a perfect number? : \", is_perfect_number(number))\n"
   ]
  },
  {
   "cell_type": "code",
   "execution_count": 256,
   "id": "6158d84f",
   "metadata": {},
   "outputs": [
    {
     "name": "stdout",
     "output_type": "stream",
     "text": [
      "Wr dolHe\n"
     ]
    }
   ],
   "source": [
    "# QUESTION 45. Write a Python program to remove all duplicates from a string.\n",
    "\n",
    "# SOLUTION: Here is the solution code for the asked question:\n",
    "\n",
    "# Code:\n",
    "\n",
    "def remove_duplicates(string):\n",
    "    return \"\".join(set(string))\n",
    "\n",
    "string = \"Hello World\"\n",
    "print(remove_duplicates(string))\n"
   ]
  },
  {
   "cell_type": "code",
   "execution_count": 251,
   "id": "6ac810ad",
   "metadata": {},
   "outputs": [
    {
     "name": "stdout",
     "output_type": "stream",
     "text": [
      "2\n"
     ]
    }
   ],
   "source": [
    "# QUESTION 46. Implement a function to find the first missing positive\n",
    "\n",
    "# SOLUTION: Here is the solution code for the asked question:\n",
    "\n",
    "# Code:\n",
    "\n",
    "def first_missing_positive(number_list):\n",
    "    return min(set(range(1, len(number_list) + 1)) - set(number_list))\n",
    "\n",
    "number_list = [3, 4, -1, 1]\n",
    "print(first_missing_positive(number_list))\n"
   ]
  }
 ],
 "metadata": {
  "kernelspec": {
   "display_name": "Python 3 (ipykernel)",
   "language": "python",
   "name": "python3"
  },
  "language_info": {
   "codemirror_mode": {
    "name": "ipython",
    "version": 3
   },
   "file_extension": ".py",
   "mimetype": "text/x-python",
   "name": "python",
   "nbconvert_exporter": "python",
   "pygments_lexer": "ipython3",
   "version": "3.9.13"
  }
 },
 "nbformat": 4,
 "nbformat_minor": 5
}
